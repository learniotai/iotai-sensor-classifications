{
 "cells": [
  {
   "cell_type": "code",
   "execution_count": 8,
   "id": "e775586c",
   "metadata": {},
   "outputs": [],
   "source": [
    "import os\n",
    "import pytest\n",
    "import numpy as np\n",
    "from data.gestures import linear_accelerometer\n",
    "from iotai_sensor_classification.recording import read_recordings\n",
    "from iotai_sensor_classification.preprocess import parse_recording, SAMPLES_PER_RECORDING\n",
    "import pandas as pd"
   ]
  },
  {
   "cell_type": "code",
   "execution_count": 11,
   "id": "397509a0",
   "metadata": {},
   "outputs": [],
   "source": [
    "def gesture_recordings():\n",
    "    \"\"\"Read gesture recordings for all tests in file.\"\"\"\n",
    "    recordings_dir = os.path.dirname(linear_accelerometer.__file__)\n",
    "    recordings = read_recordings(recordings_dir=recordings_dir)\n",
    "    return recordings\n",
    "\n",
    "gesture_recordings_ = gesture_recordings()"
   ]
  },
  {
   "cell_type": "code",
   "execution_count": 14,
   "id": "5a63c09f",
   "metadata": {},
   "outputs": [],
   "source": [
    "# def test_parse_gestures(gesture_recordings):\n",
    "#     \"\"\"Test parsing gesture data creating labels into a dataset for training and or testing models.\"\"\"\n",
    "normed_gesture_measures, encoded_labels, label_coder = parse_recording(gesture_recordings_, samples_per_recording=SAMPLES_PER_RECORDING)\n",
    "n_col_measures = normed_gesture_measures.shape[2]\n",
    "col_measure_means = [normed_gesture_measures[:, :, col].mean() for col in range(n_col_measures)]\n",
    "col_measure_stds = [normed_gesture_measures[:, :, col].std() for col in range(n_col_measures)]\n",
    "# normalization is done on all measures. Extra measurements not fitting in a sample are dropped causing mean\n",
    "# and standard deviation to drift from mean=0 and std=1\n",
    "assert all(np.isclose(col_measure_means, 0.0, atol=0.02))\n",
    "assert all(np.isclose(col_measure_stds, 1.0, atol=0.01))\n",
    "gesture_names = label_coder.decode_one_hots(encoded_labels)\n",
    "gesture_recording_n = pd.Series(gesture_names).value_counts()\n",
    "gesture_names_of_recs = gesture_recording_n.keys()\n",
    "for rec_name in gesture_names_of_recs:\n",
    "    read_rec = gesture_recordings_[rec_name]\n",
    "    n_read = int(read_rec.shape[0]/SAMPLES_PER_RECORDING)\n",
    "    assert gesture_recording_n[rec_name] == n_read"
   ]
  },
  {
   "cell_type": "code",
   "execution_count": null,
   "id": "c03ac4be",
   "metadata": {},
   "outputs": [],
   "source": []
  },
  {
   "cell_type": "code",
   "execution_count": null,
   "id": "fb35d830",
   "metadata": {},
   "outputs": [],
   "source": []
  },
  {
   "cell_type": "code",
   "execution_count": null,
   "id": "5ecf0b26",
   "metadata": {},
   "outputs": [],
   "source": []
  }
 ],
 "metadata": {
  "kernelspec": {
   "display_name": "Python 3 (ipykernel)",
   "language": "python",
   "name": "python3"
  },
  "language_info": {
   "codemirror_mode": {
    "name": "ipython",
    "version": 3
   },
   "file_extension": ".py",
   "mimetype": "text/x-python",
   "name": "python",
   "nbconvert_exporter": "python",
   "pygments_lexer": "ipython3",
   "version": "3.8.5"
  }
 },
 "nbformat": 4,
 "nbformat_minor": 5
}
