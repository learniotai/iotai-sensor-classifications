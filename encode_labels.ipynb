{
 "cells": [
  {
   "cell_type": "code",
   "execution_count": 14,
   "id": "79c9e464",
   "metadata": {},
   "outputs": [],
   "source": [
    "import os\n",
    "from data.gestures import linear_accelerometer\n",
    "from iotai_sensor_classification.recording import read_recordings\n",
    "from iotai_sensor_classification.recording import read_recordings\n",
    "from iotai_sensor_classification import encode\n",
    "from iotai_sensor_classification.recording import get_recording_names"
   ]
  },
  {
   "cell_type": "code",
   "execution_count": 15,
   "id": "d6dc8372",
   "metadata": {},
   "outputs": [],
   "source": [
    "def gesture_recordings():\n",
    "    \"\"\"Read gesture recordings for all tests in file.\"\"\"\n",
    "    recordings_dir = os.path.dirname(linear_accelerometer.__file__)\n",
    "    recordings = read_recordings(recordings_dir=recordings_dir)\n",
    "    return recordings\n",
    "\n",
    "gesture_recordings_ = gesture_recordings()"
   ]
  },
  {
   "cell_type": "code",
   "execution_count": 16,
   "id": "3ecc48f4",
   "metadata": {},
   "outputs": [
    {
     "data": {
      "text/plain": [
       "['rock', 'supination', 'scoop', 'shake', 'circle']"
      ]
     },
     "execution_count": 16,
     "metadata": {},
     "output_type": "execute_result"
    }
   ],
   "source": [
    "def gesture_names():\n",
    "    recordings_dir = os.path.dirname(linear_accelerometer.__file__)\n",
    "    return get_recording_names(recordings_dir, ext=\".csv.gz\")\n",
    "\n",
    "gesture_names_ = gesture_names()\n",
    "gesture_names_"
   ]
  },
  {
   "cell_type": "code",
   "execution_count": 17,
   "id": "1011adf1",
   "metadata": {},
   "outputs": [
    {
     "name": "stdout",
     "output_type": "stream",
     "text": [
      "[[0. 1. 0. 0. 0.]\n",
      " [0. 0. 0. 0. 1.]\n",
      " [0. 0. 1. 0. 0.]\n",
      " [0. 0. 0. 1. 0.]\n",
      " [1. 0. 0. 0. 0.]]\n",
      "['rock' 'supination' 'scoop' 'shake' 'circle']\n"
     ]
    }
   ],
   "source": [
    "# def test_label_encoder(gesture_names):\n",
    "#    \"\"\"Test label encoder.\"\"\"\n",
    "label_coder = encode.LabelCoder()\n",
    "one_hot_gestures = label_coder.encode_labels(gesture_names_)\n",
    "decoded_gestures = label_coder.decode_one_hots(one_hot_gestures)\n",
    "assert all(decoded_gestures == gesture_names_)\n",
    "print(one_hot_gestures)\n",
    "print(decoded_gestures)"
   ]
  },
  {
   "cell_type": "code",
   "execution_count": null,
   "id": "d09d098d",
   "metadata": {},
   "outputs": [],
   "source": []
  }
 ],
 "metadata": {
  "kernelspec": {
   "display_name": "Python 3 (ipykernel)",
   "language": "python",
   "name": "python3"
  },
  "language_info": {
   "codemirror_mode": {
    "name": "ipython",
    "version": 3
   },
   "file_extension": ".py",
   "mimetype": "text/x-python",
   "name": "python",
   "nbconvert_exporter": "python",
   "pygments_lexer": "ipython3",
   "version": "3.8.5"
  }
 },
 "nbformat": 4,
 "nbformat_minor": 5
}
